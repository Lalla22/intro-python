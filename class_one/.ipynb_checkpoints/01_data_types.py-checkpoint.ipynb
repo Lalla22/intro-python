{
 "cells": [
  {
   "cell_type": "code",
   "execution_count": 1,
   "id": "da3d1fe2",
   "metadata": {},
   "outputs": [],
   "source": [
    "## Learn More Python with Automate the Boring Stuff:\n",
    "## https://automatetheboringstuff.com/chapter1/\n",
    "import numbers"
   ]
  },
  {
   "cell_type": "code",
   "execution_count": 2,
   "id": "aca0980e",
   "metadata": {},
   "outputs": [
    {
     "name": "stdout",
     "output_type": "stream",
     "text": [
      "hello world\n"
     ]
    }
   ],
   "source": [
    "# Your First Program\n",
    "print('hello world')\n",
    "# # Comments in python use a '#'\n",
    "# # Remove the # in front of code to run it"
   ]
  },
  {
   "cell_type": "code",
   "execution_count": 14,
   "id": "67241b0e",
   "metadata": {},
   "outputs": [],
   "source": [
    "## WARM UP QUIZ\n",
    "# PART I\n",
    "a = 5\n",
    "b = 5.0\n",
    "c = a / 2\n",
    "d = b / 2"
   ]
  },
  {
   "cell_type": "code",
   "execution_count": null,
   "id": "d0e7eafe",
   "metadata": {},
   "outputs": [],
   "source": [
    "# What is type(a)?\n",
    "\n",
    "# Its an integer"
   ]
  },
  {
   "cell_type": "code",
   "execution_count": 1,
   "id": "d731210b",
   "metadata": {},
   "outputs": [],
   "source": [
    "# What is type(b)?\n",
    "\n",
    "# It is a float\n",
    "\n",
    "# What is c?\n",
    "\n",
    "# It is a float\n",
    "\n",
    "# What is d?\n",
    "\n",
    "# It is a float"
   ]
  },
  {
   "cell_type": "code",
   "execution_count": 10,
   "id": "246cb717",
   "metadata": {},
   "outputs": [
    {
     "data": {
      "text/plain": [
       "2"
      ]
     },
     "execution_count": 10,
     "metadata": {},
     "output_type": "execute_result"
    }
   ],
   "source": [
    "# EXERCISES\n",
    "e = [a, b]\n",
    "f = list(range(0, 10))\n",
    "(len(e))\n"
   ]
  },
  {
   "cell_type": "code",
   "execution_count": null,
   "id": "f5967341",
   "metadata": {},
   "outputs": [],
   "source": [
    "# What is type(e)?\n",
    "\n",
    "# It's the data type list"
   ]
  },
  {
   "cell_type": "code",
   "execution_count": null,
   "id": "f61a79e4",
   "metadata": {},
   "outputs": [],
   "source": [
    "# What is len(e)?\n",
    "\n",
    "# len (e) give the length of the list which is 2"
   ]
  },
  {
   "cell_type": "code",
   "execution_count": null,
   "id": "54cfa5e5",
   "metadata": {},
   "outputs": [],
   "source": [
    "# What is type(f)?\n",
    "\n",
    "# Its the data type list"
   ]
  },
  {
   "cell_type": "code",
   "execution_count": null,
   "id": "46afebcc",
   "metadata": {},
   "outputs": [],
   "source": [
    "# What are the contents of f?\n",
    "\n",
    "# The contents are [0, 1, 2, 3, 4, 5, 6, 7, 8, 9, ]"
   ]
  },
  {
   "cell_type": "code",
   "execution_count": null,
   "id": "25150070",
   "metadata": {},
   "outputs": [],
   "source": [
    "# What is 'list' called? # hint: google it\n",
    "\n",
    "# A list is simply called list in python. A list is used to store collections of items, \n",
    "# where each item in the list can be of any data type, and the items are\n",
    "# ordered and mutable."
   ]
  },
  {
   "cell_type": "code",
   "execution_count": null,
   "id": "de3294c3",
   "metadata": {},
   "outputs": [],
   "source": [
    "# What is 'range' called? What happens when you run 'help(range)'?\n",
    "\n",
    "# In python range is a built in function. It's used to generate a sequence of numbers.\n",
    "# When you run help(range) in Python, it displays information about the range function, including its usage,\n",
    "# parameters, and return value"
   ]
  },
  {
   "cell_type": "code",
   "execution_count": 4,
   "id": "006dbc75",
   "metadata": {},
   "outputs": [
    {
     "name": "stdout",
     "output_type": "stream",
     "text": [
      "Help on class range in module builtins:\n",
      "\n",
      "class range(object)\n",
      " |  range(stop) -> range object\n",
      " |  range(start, stop[, step]) -> range object\n",
      " |  \n",
      " |  Return an object that produces a sequence of integers from start (inclusive)\n",
      " |  to stop (exclusive) by step.  range(i, j) produces i, i+1, i+2, ..., j-1.\n",
      " |  start defaults to 0, and stop is omitted!  range(4) produces 0, 1, 2, 3.\n",
      " |  These are exactly the valid indices for a list of 4 elements.\n",
      " |  When step is given, it specifies the increment (or decrement).\n",
      " |  \n",
      " |  Methods defined here:\n",
      " |  \n",
      " |  __bool__(self, /)\n",
      " |      True if self else False\n",
      " |  \n",
      " |  __contains__(self, key, /)\n",
      " |      Return key in self.\n",
      " |  \n",
      " |  __eq__(self, value, /)\n",
      " |      Return self==value.\n",
      " |  \n",
      " |  __ge__(self, value, /)\n",
      " |      Return self>=value.\n",
      " |  \n",
      " |  __getattribute__(self, name, /)\n",
      " |      Return getattr(self, name).\n",
      " |  \n",
      " |  __getitem__(self, key, /)\n",
      " |      Return self[key].\n",
      " |  \n",
      " |  __gt__(self, value, /)\n",
      " |      Return self>value.\n",
      " |  \n",
      " |  __hash__(self, /)\n",
      " |      Return hash(self).\n",
      " |  \n",
      " |  __iter__(self, /)\n",
      " |      Implement iter(self).\n",
      " |  \n",
      " |  __le__(self, value, /)\n",
      " |      Return self<=value.\n",
      " |  \n",
      " |  __len__(self, /)\n",
      " |      Return len(self).\n",
      " |  \n",
      " |  __lt__(self, value, /)\n",
      " |      Return self<value.\n",
      " |  \n",
      " |  __ne__(self, value, /)\n",
      " |      Return self!=value.\n",
      " |  \n",
      " |  __reduce__(...)\n",
      " |      Helper for pickle.\n",
      " |  \n",
      " |  __repr__(self, /)\n",
      " |      Return repr(self).\n",
      " |  \n",
      " |  __reversed__(...)\n",
      " |      Return a reverse iterator.\n",
      " |  \n",
      " |  count(...)\n",
      " |      rangeobject.count(value) -> integer -- return number of occurrences of value\n",
      " |  \n",
      " |  index(...)\n",
      " |      rangeobject.index(value) -> integer -- return index of value.\n",
      " |      Raise ValueError if the value is not present.\n",
      " |  \n",
      " |  ----------------------------------------------------------------------\n",
      " |  Static methods defined here:\n",
      " |  \n",
      " |  __new__(*args, **kwargs) from builtins.type\n",
      " |      Create and return a new object.  See help(type) for accurate signature.\n",
      " |  \n",
      " |  ----------------------------------------------------------------------\n",
      " |  Data descriptors defined here:\n",
      " |  \n",
      " |  start\n",
      " |  \n",
      " |  step\n",
      " |  \n",
      " |  stop\n",
      "\n"
     ]
    }
   ],
   "source": [
    "## Results from running help (range)\n",
    "\n",
    "f = list(range(0, 10))\n",
    "help (range)"
   ]
  }
 ],
 "metadata": {
  "kernelspec": {
   "display_name": "Python 3 (ipykernel)",
   "language": "python",
   "name": "python3"
  },
  "language_info": {
   "codemirror_mode": {
    "name": "ipython",
    "version": 3
   },
   "file_extension": ".py",
   "mimetype": "text/x-python",
   "name": "python",
   "nbconvert_exporter": "python",
   "pygments_lexer": "ipython3",
   "version": "3.9.13"
  }
 },
 "nbformat": 4,
 "nbformat_minor": 5
}
