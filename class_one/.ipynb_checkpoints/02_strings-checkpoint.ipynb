{
 "cells": [
  {
   "cell_type": "code",
   "execution_count": 1,
   "id": "eb84af51",
   "metadata": {},
   "outputs": [],
   "source": [
    "# STRINGS\n",
    "# https://docs.python.org/3/tutorial/introduction.html#strings"
   ]
  },
  {
   "cell_type": "code",
   "execution_count": 7,
   "id": "74256b94",
   "metadata": {},
   "outputs": [],
   "source": [
    "s = str(42)"
   ]
  },
  {
   "cell_type": "code",
   "execution_count": 8,
   "id": "86575085",
   "metadata": {},
   "outputs": [
    {
     "data": {
      "text/plain": [
       "'42'"
      ]
     },
     "execution_count": 8,
     "metadata": {},
     "output_type": "execute_result"
    }
   ],
   "source": [
    "s  # convert another data type into a string (casting)"
   ]
  },
  {
   "cell_type": "code",
   "execution_count": 9,
   "id": "42fb71d8",
   "metadata": {},
   "outputs": [],
   "source": [
    "s = 'I like you'"
   ]
  },
  {
   "cell_type": "code",
   "execution_count": 11,
   "id": "10c35e1e",
   "metadata": {},
   "outputs": [
    {
     "data": {
      "text/plain": [
       "'I'"
      ]
     },
     "execution_count": 11,
     "metadata": {},
     "output_type": "execute_result"
    }
   ],
   "source": [
    "# examine a string\n",
    "s[0]  # returns 'I'"
   ]
  },
  {
   "cell_type": "code",
   "execution_count": 13,
   "id": "61d5a115",
   "metadata": {},
   "outputs": [
    {
     "data": {
      "text/plain": [
       "10"
      ]
     },
     "execution_count": 13,
     "metadata": {},
     "output_type": "execute_result"
    }
   ],
   "source": [
    "len(s) # returns 10"
   ]
  },
  {
   "cell_type": "code",
   "execution_count": 14,
   "id": "4895b4f2",
   "metadata": {},
   "outputs": [
    {
     "data": {
      "text/plain": [
       "'I like '"
      ]
     },
     "execution_count": 14,
     "metadata": {},
     "output_type": "execute_result"
    }
   ],
   "source": [
    "# string slicing like lists\n",
    "s[0:7]  # returns 'I like '"
   ]
  },
  {
   "cell_type": "code",
   "execution_count": 15,
   "id": "a4f1c2c2",
   "metadata": {},
   "outputs": [
    {
     "data": {
      "text/plain": [
       "' you'"
      ]
     },
     "execution_count": 15,
     "metadata": {},
     "output_type": "execute_result"
    }
   ],
   "source": [
    "s[6:]  # returns 'you'"
   ]
  },
  {
   "cell_type": "code",
   "execution_count": 16,
   "id": "182afbb0",
   "metadata": {},
   "outputs": [
    {
     "data": {
      "text/plain": [
       "'u'"
      ]
     },
     "execution_count": 16,
     "metadata": {},
     "output_type": "execute_result"
    }
   ],
   "source": [
    "s[-1]  # returns 'u'"
   ]
  },
  {
   "cell_type": "code",
   "execution_count": 17,
   "id": "de0839fc",
   "metadata": {},
   "outputs": [
    {
     "data": {
      "text/plain": [
       "\"'I like '\""
      ]
     },
     "execution_count": 17,
     "metadata": {},
     "output_type": "execute_result"
    }
   ],
   "source": [
    "# Use the 'repr()'\n",
    "# repr() is string representation\n",
    "repr(s[0:7])"
   ]
  },
  {
   "cell_type": "code",
   "execution_count": null,
   "id": "815f3b0b",
   "metadata": {},
   "outputs": [],
   "source": [
    "# EXERCISE: Book Titles (Part 1)\n",
    "# 1) Extract the book title from the string\n",
    "# 2) Save each book title to a variable (ie book1_title)\n",
    "# 3) How many characters/elements are in each title?\n",
    "# Hint: {bookTitle} by {author}, {years}\n",
    "\n",
    "\n",
    "book1 = \"Beyond the Door by Dick, Philip K., 1928-1982\"\n",
    "book2 = \"The Variable Man by Dick, Philip K., 1928-1982\"\n",
    "book3 = \"The Skull by Dick, Philip K., 1928-1982\""
   ]
  },
  {
   "cell_type": "code",
   "execution_count": null,
   "id": "9ee05348",
   "metadata": {},
   "outputs": [],
   "source": [
    "# 1) Extract the book title from the string\n"
   ]
  },
  {
   "cell_type": "code",
   "execution_count": null,
   "id": "8e52f485",
   "metadata": {},
   "outputs": [],
   "source": [
    "# 2) Save each book title to a variable (ie book1_title)\n"
   ]
  },
  {
   "cell_type": "code",
   "execution_count": null,
   "id": "37bf1de3",
   "metadata": {},
   "outputs": [],
   "source": [
    "# 3) How many characters/elements are in each title?\n"
   ]
  },
  {
   "cell_type": "code",
   "execution_count": null,
   "id": "fe06bbbf",
   "metadata": {},
   "outputs": [],
   "source": [
    "# STRINGS - Part II\n",
    "\n",
    "# concatenate strings\n",
    "s3 = 'The meaning of life is'\n",
    "s4 = '42'\n",
    "s3 + ' ' + s4       # returns 'The meaning of life is 42'\n",
    "s3 + ' ' + str(42)  # same thing"
   ]
  },
  {
   "cell_type": "code",
   "execution_count": null,
   "id": "7e1f6bdf",
   "metadata": {},
   "outputs": [],
   "source": [
    "# split a string into a list of substrings separated by a delimiter\n",
    "\n",
    "s = 'I like you'\n",
    "s.split(' ')        # returns ['I','like','you']\n",
    "s.split()           # same thing\n"
   ]
  },
  {
   "cell_type": "code",
   "execution_count": null,
   "id": "e2cb1c0d",
   "metadata": {},
   "outputs": [],
   "source": [
    "\n",
    "# Reverse a string\n",
    "\n",
    "string = 'Hello, my friend!' \n",
    "\n",
    "string[::-1]\n"
   ]
  },
  {
   "cell_type": "code",
   "execution_count": null,
   "id": "c0d47304",
   "metadata": {},
   "outputs": [],
   "source": [
    "# Replace substring with another value\n",
    "\n",
    "cheese_str = 'I like yummy cheese'\n",
    "\n",
    "cheese_str.replace('like', 'love')"
   ]
  },
  {
   "cell_type": "code",
   "execution_count": null,
   "id": "2efce121",
   "metadata": {},
   "outputs": [],
   "source": []
  },
  {
   "cell_type": "code",
   "execution_count": null,
   "id": "d4de21e2",
   "metadata": {},
   "outputs": [],
   "source": []
  },
  {
   "cell_type": "code",
   "execution_count": null,
   "id": "2cee970a",
   "metadata": {},
   "outputs": [],
   "source": []
  },
  {
   "cell_type": "code",
   "execution_count": null,
   "id": "0052a674",
   "metadata": {},
   "outputs": [],
   "source": []
  },
  {
   "cell_type": "code",
   "execution_count": null,
   "id": "8be6a6c2",
   "metadata": {},
   "outputs": [],
   "source": [
    "# BONUS EXERCISE - \tPalindrome Detection\n",
    "# A palindrome is a word, phrase, number or sequence of words that \n",
    "# reads the same backwards as forwards. \n",
    "# Punctuation and spaces between the words or lettering is allowed. \n",
    "\n",
    "# 1) Can you programmatically test if these phrases are palindromes?\n",
    "\n",
    "palindrome_one = 'racecar'\n",
    "\n",
    "\n",
    "palindrome_two = 'step on no pets' \n",
    "\n",
    "\n",
    "palindrome_three = 'Red rum, sir, is murder!' \n",
    "\n",
    "# hint - how can you lowercase a string?\n",
    "# hint - how can you remove / replace punctuation with an empty string?\n",
    "# Next level exercise - see 03_functions.py\n",
    "\n",
    "## Learn more with Automate the Boring Stuff:\n",
    "## https://automatetheboringstuff.com/chapter1/"
   ]
  }
 ],
 "metadata": {
  "kernelspec": {
   "display_name": "Python 3 (ipykernel)",
   "language": "python",
   "name": "python3"
  },
  "language_info": {
   "codemirror_mode": {
    "name": "ipython",
    "version": 3
   },
   "file_extension": ".py",
   "mimetype": "text/x-python",
   "name": "python",
   "nbconvert_exporter": "python",
   "pygments_lexer": "ipython3",
   "version": "3.9.13"
  }
 },
 "nbformat": 4,
 "nbformat_minor": 5
}
