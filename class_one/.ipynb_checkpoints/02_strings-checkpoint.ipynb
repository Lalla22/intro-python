{
 "cells": [
  {
   "cell_type": "code",
   "execution_count": null,
   "id": "eb84af51",
   "metadata": {},
   "outputs": [],
   "source": [
    "# STRINGS\n",
    "# https://docs.python.org/3/tutorial/introduction.html#strings"
   ]
  },
  {
   "cell_type": "code",
   "execution_count": 13,
   "id": "74256b94",
   "metadata": {},
   "outputs": [],
   "source": [
    "s = str(42)"
   ]
  },
  {
   "cell_type": "code",
   "execution_count": 14,
   "id": "f6ca2e83",
   "metadata": {},
   "outputs": [
    {
     "name": "stdout",
     "output_type": "stream",
     "text": [
      "42\n",
      "100\n"
     ]
    }
   ],
   "source": [
    "# convert another data type into a string (casting)\n",
    "donut = str(100)\n",
    "d = 'I like you'\n",
    "print(s)\n",
    "print(donut)"
   ]
  },
  {
   "cell_type": "code",
   "execution_count": null,
   "id": "10c35e1e",
   "metadata": {},
   "outputs": [],
   "source": []
  },
  {
   "cell_type": "code",
   "execution_count": null,
   "id": "61d5a115",
   "metadata": {},
   "outputs": [],
   "source": []
  },
  {
   "cell_type": "code",
   "execution_count": 4,
   "id": "4895b4f2",
   "metadata": {},
   "outputs": [
    {
     "data": {
      "text/plain": [
       "2"
      ]
     },
     "execution_count": 4,
     "metadata": {},
     "output_type": "execute_result"
    }
   ],
   "source": [
    "# examine a string\n",
    "s[0]  # returns 'I'\n",
    "\n",
    "len(s)  # returns 10"
   ]
  },
  {
   "cell_type": "code",
   "execution_count": null,
   "id": "a4f1c2c2",
   "metadata": {},
   "outputs": [],
   "source": []
  },
  {
   "cell_type": "code",
   "execution_count": null,
   "id": "182afbb0",
   "metadata": {},
   "outputs": [],
   "source": []
  },
  {
   "cell_type": "code",
   "execution_count": null,
   "id": "8be6a6c2",
   "metadata": {},
   "outputs": [],
   "source": []
  }
 ],
 "metadata": {
  "kernelspec": {
   "display_name": "Python 3 (ipykernel)",
   "language": "python",
   "name": "python3"
  },
  "language_info": {
   "codemirror_mode": {
    "name": "ipython",
    "version": 3
   },
   "file_extension": ".py",
   "mimetype": "text/x-python",
   "name": "python",
   "nbconvert_exporter": "python",
   "pygments_lexer": "ipython3",
   "version": "3.9.13"
  }
 },
 "nbformat": 4,
 "nbformat_minor": 5
}
