{
 "cells": [
  {
   "cell_type": "code",
   "execution_count": null,
   "id": "f4f50370",
   "metadata": {},
   "outputs": [],
   "source": [
    "# LISTS\n",
    "# https://docs.python.org/3/tutorial/introduction.html#lists\n",
    "\n",
    "# list slicing [start:end:stride]\n",
    "\n",
    "weekdays = ['mon','tues','wed','thurs','fri']\n",
    "weekdays[0]         # element 0\n",
    "weekdays[0:3]       # elements 0, 1, 2\n",
    "weekdays[:3]        # elements 0, 1, 2\n",
    "weekdays[-1]        # last element\n",
    "\n",
    "test = weekdays[3:]        # elements 3, 4\n",
    "\n",
    "weekdays\n",
    "\n",
    "weekdays[-2]        # last element (element 4)\n",
    "weekdays[::2]       # every 2nd element (0, 2, 4)\n",
    "weekdays[::-1]      # backwards (4, 3, 2, 1, 0)\n",
    "\n",
    "days = weekdays + ['sat','sun']     # concatenate lists\n",
    "\n",
    "# Let's look at it another way\n",
    "days_list = ['mon','tues','wed','thurs','fri']\n",
    "days_list.append('sat') # append individual elements to list\n",
    "days_list.append('sun')\n",
    "\n",
    "#########\n",
    "# Exercise - Lists\n",
    "#########\n",
    "\n",
    "# How do I select 'wed' by index?\n",
    "\n",
    "\n",
    "# How do I check the type of 'mon'?\n",
    "\n",
    "\n",
    "# How do I slice out 'wed' through 'friday'?\n",
    "\n",
    "\n",
    "# What are two ways to select 'fri' by index?\n",
    "\n",
    "\n",
    "# What is the length of days and days_list?\n",
    "\n",
    "\n",
    "# How do I reverse the order of days? (hint: google it)"
   ]
  }
 ],
 "metadata": {
  "kernelspec": {
   "display_name": "Python 3 (ipykernel)",
   "language": "python",
   "name": "python3"
  },
  "language_info": {
   "codemirror_mode": {
    "name": "ipython",
    "version": 3
   },
   "file_extension": ".py",
   "mimetype": "text/x-python",
   "name": "python",
   "nbconvert_exporter": "python",
   "pygments_lexer": "ipython3",
   "version": "3.9.13"
  }
 },
 "nbformat": 4,
 "nbformat_minor": 5
}
