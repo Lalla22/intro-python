{
 "cells": [
  {
   "cell_type": "code",
   "execution_count": null,
   "id": "e779695a",
   "metadata": {},
   "outputs": [],
   "source": [
    "## DICTIONARIES\n",
    "\n",
    "# dictionaries are similar to lists:\n",
    "# - both can contain multiple data types\n",
    "# - both are iterable\n",
    "# - both are mutable\n",
    "\n",
    "# dictionaries are different from lists:\n",
    "# - dictionaries are unordered*\n",
    "# - dictionary lookup time is constant regardless of dictionary size\n",
    "\n",
    "# dictionaries are like real dictionaries:\n",
    "# - dictionaries are made of key-value pairs (word and definition)\n",
    "# - dictionary keys must be unique (each word is only defined once)\n",
    "# - you can use the key to look up the value, but not the other way around\n",
    "\n",
    "# create a dictionary (and open Variable Explorer in Spyder)\n",
    "family = {'dad':'homer', 'mom':'marge', 'size':6}\n",
    "\n",
    "# examine a dictionary\n",
    "# family[0]           # throws an error (there is no ordering)\n",
    "family['dad']       # returns 'homer'\n",
    "len(family)         # returns 3\n",
    "family.keys()       # returns list: ['dad', 'mom', 'size']\n",
    "family.values()     # returns list: ['homer', 'marge', 6]\n",
    "family.items()      # returns list of tuples:\n",
    "                    #   [('dad', 'homer'), ('mom', 'marge'), ('size', 6)]\n",
    "\n",
    "# modify a dictionary\n",
    "family['cat'] = 'snowball'          # add a new entry\n",
    "family['cat'] = 'snowball ii'       # edit an existing entry\n",
    "del family['cat']                   # delete an entry\n",
    "family['kids'] = ['bart', 'lisa']   # value can be a list\n",
    "\n",
    "# accessing a list element within a dictionary\n",
    "family['kids'][0]   # returns 'bart'\n",
    "\n",
    "# EXERCISE:\n",
    "# Given that: d = {'a':10, 'b':20, 'c':[30, 40]}\n",
    "\n",
    "# First, print the value for 'a'\n",
    "\n",
    "# Then, change the value for 'b' to be 25\n",
    "\n",
    "# Then, change the 30 to be 35\n",
    "\n",
    "# Finally, append 45 to the end of the list that contains 35 and 40\n"
   ]
  }
 ],
 "metadata": {
  "kernelspec": {
   "display_name": "Python 3 (ipykernel)",
   "language": "python",
   "name": "python3"
  },
  "language_info": {
   "codemirror_mode": {
    "name": "ipython",
    "version": 3
   },
   "file_extension": ".py",
   "mimetype": "text/x-python",
   "name": "python",
   "nbconvert_exporter": "python",
   "pygments_lexer": "ipython3",
   "version": "3.9.13"
  }
 },
 "nbformat": 4,
 "nbformat_minor": 5
}
