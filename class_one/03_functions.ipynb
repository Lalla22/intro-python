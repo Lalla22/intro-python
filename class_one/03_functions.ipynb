{
 "cells": [
  {
   "cell_type": "code",
   "execution_count": 1,
   "id": "1f3947fc",
   "metadata": {},
   "outputs": [],
   "source": [
    "# FUNCTIONS\n",
    "# A function is like a mini-program within a program.\n",
    "def hello():\n",
    "    print('Howdy!')\n",
    "    print('Howdy!!!')\n",
    "    print('Hello there.')"
   ]
  },
  {
   "cell_type": "code",
   "execution_count": null,
   "id": "40893b94",
   "metadata": {},
   "outputs": [],
   "source": [
    "# Can you run the function hello()?\n",
    "def hello_friend(name):\n",
    "    print('Howdy, ' + name)\n"
   ]
  },
  {
   "cell_type": "code",
   "execution_count": null,
   "id": "edbcc056",
   "metadata": {},
   "outputs": [],
   "source": [
    "# Can you say Howdy to your code buddy?"
   ]
  },
  {
   "cell_type": "code",
   "execution_count": null,
   "id": "715cb1d6",
   "metadata": {},
   "outputs": [],
   "source": [
    "### Exercise: Can you write a function that:\n",
    "# Takes in your name and the language you are learning\n",
    "# Prints out an Introduction for yourself\n",
    "# Bonus -- if you are learning 'python', then it prints out 'Cool!'\n",
    "# Hint - google python 'if' statement"
   ]
  },
  {
   "cell_type": "code",
   "execution_count": null,
   "id": "91a50e84",
   "metadata": {},
   "outputs": [],
   "source": [
    "### Bonus Exercise: Extra Credit\n",
    "# Write a Palindrome Detection function\n",
    "# Takes in a string and returns a boolean if the string is a palindrome\n",
    "# Hint: It might require some data cleaning, check out 02_strings.py\n",
    "# Hint: google 'python boolean equality'"
   ]
  },
  {
   "cell_type": "code",
   "execution_count": null,
   "id": "42079680",
   "metadata": {},
   "outputs": [],
   "source": [
    "palindrome_one = 'racecar'\n",
    "\n",
    "\n",
    "palindrome_two = 'step on no pets' \n",
    "\n",
    "\n",
    "palindrome_three = 'Red rum, sir, is murder!' "
   ]
  },
  {
   "cell_type": "code",
   "execution_count": null,
   "id": "e2284ed3",
   "metadata": {},
   "outputs": [],
   "source": [
    "### Learn More About Functions\n",
    "# https://automatetheboringstuff.com/chapter3/"
   ]
  },
  {
   "cell_type": "code",
   "execution_count": null,
   "id": "e82f84bc",
   "metadata": {},
   "outputs": [],
   "source": []
  },
  {
   "cell_type": "code",
   "execution_count": null,
   "id": "34ef0d8f",
   "metadata": {},
   "outputs": [],
   "source": []
  }
 ],
 "metadata": {
  "kernelspec": {
   "display_name": "Python 3 (ipykernel)",
   "language": "python",
   "name": "python3"
  },
  "language_info": {
   "codemirror_mode": {
    "name": "ipython",
    "version": 3
   },
   "file_extension": ".py",
   "mimetype": "text/x-python",
   "name": "python",
   "nbconvert_exporter": "python",
   "pygments_lexer": "ipython3",
   "version": "3.9.13"
  }
 },
 "nbformat": 4,
 "nbformat_minor": 5
}
